{
 "cells": [
  {
   "cell_type": "code",
   "execution_count": 1,
   "id": "59939bea",
   "metadata": {},
   "outputs": [],
   "source": [
    "import pandas as pd\n",
    "df=pd.read_csv(\"FinalAdalab - anemia (1).csv\")"
   ]
  },
  {
   "cell_type": "code",
   "execution_count": 2,
   "id": "f04ebaae",
   "metadata": {},
   "outputs": [],
   "source": [
    "import numpy as np\n",
    "from sklearn.preprocessing import StandardScaler\n",
    "from sklearn.model_selection import train_test_split\n",
    "from scipy.stats import mode\n",
    "import matplotlib.pyplot as plt\n",
    "import seaborn as sns\n",
    "from sklearn.preprocessing import LabelEncoder\n",
    "from sklearn.metrics import accuracy_score, confusion_matrix,precision_score"
   ]
  },
  {
   "cell_type": "code",
   "execution_count": 3,
   "id": "a83a84f2",
   "metadata": {},
   "outputs": [
    {
     "data": {
      "text/html": [
       "<div>\n",
       "<style scoped>\n",
       "    .dataframe tbody tr th:only-of-type {\n",
       "        vertical-align: middle;\n",
       "    }\n",
       "\n",
       "    .dataframe tbody tr th {\n",
       "        vertical-align: top;\n",
       "    }\n",
       "\n",
       "    .dataframe thead th {\n",
       "        text-align: right;\n",
       "    }\n",
       "</style>\n",
       "<table border=\"1\" class=\"dataframe\">\n",
       "  <thead>\n",
       "    <tr style=\"text-align: right;\">\n",
       "      <th></th>\n",
       "      <th>Gender</th>\n",
       "      <th>Hemoglobin</th>\n",
       "      <th>MCH</th>\n",
       "      <th>MCHC</th>\n",
       "      <th>MCV</th>\n",
       "      <th>Result</th>\n",
       "      <th>Type</th>\n",
       "    </tr>\n",
       "  </thead>\n",
       "  <tbody>\n",
       "    <tr>\n",
       "      <th>0</th>\n",
       "      <td>1</td>\n",
       "      <td>14.9</td>\n",
       "      <td>22.7</td>\n",
       "      <td>29.1</td>\n",
       "      <td>83.7</td>\n",
       "      <td>0</td>\n",
       "      <td>Normocytic</td>\n",
       "    </tr>\n",
       "    <tr>\n",
       "      <th>1</th>\n",
       "      <td>0</td>\n",
       "      <td>15.9</td>\n",
       "      <td>25.4</td>\n",
       "      <td>28.3</td>\n",
       "      <td>72.0</td>\n",
       "      <td>0</td>\n",
       "      <td>Microcytic</td>\n",
       "    </tr>\n",
       "    <tr>\n",
       "      <th>2</th>\n",
       "      <td>0</td>\n",
       "      <td>9.0</td>\n",
       "      <td>21.5</td>\n",
       "      <td>29.6</td>\n",
       "      <td>71.2</td>\n",
       "      <td>1</td>\n",
       "      <td>Microcytic</td>\n",
       "    </tr>\n",
       "    <tr>\n",
       "      <th>3</th>\n",
       "      <td>0</td>\n",
       "      <td>14.9</td>\n",
       "      <td>16.0</td>\n",
       "      <td>31.4</td>\n",
       "      <td>87.5</td>\n",
       "      <td>0</td>\n",
       "      <td>Normocytic</td>\n",
       "    </tr>\n",
       "    <tr>\n",
       "      <th>4</th>\n",
       "      <td>1</td>\n",
       "      <td>14.7</td>\n",
       "      <td>22.0</td>\n",
       "      <td>28.2</td>\n",
       "      <td>99.5</td>\n",
       "      <td>0</td>\n",
       "      <td>Normocytic</td>\n",
       "    </tr>\n",
       "  </tbody>\n",
       "</table>\n",
       "</div>"
      ],
      "text/plain": [
       "   Gender  Hemoglobin   MCH  MCHC   MCV  Result        Type\n",
       "0       1        14.9  22.7  29.1  83.7       0  Normocytic\n",
       "1       0        15.9  25.4  28.3  72.0       0  Microcytic\n",
       "2       0         9.0  21.5  29.6  71.2       1  Microcytic\n",
       "3       0        14.9  16.0  31.4  87.5       0  Normocytic\n",
       "4       1        14.7  22.0  28.2  99.5       0  Normocytic"
      ]
     },
     "execution_count": 3,
     "metadata": {},
     "output_type": "execute_result"
    }
   ],
   "source": [
    "df.head()"
   ]
  },
  {
   "cell_type": "code",
   "execution_count": 4,
   "id": "be5187d8",
   "metadata": {},
   "outputs": [
    {
     "data": {
      "text/plain": [
       "(16721, 7)"
      ]
     },
     "execution_count": 4,
     "metadata": {},
     "output_type": "execute_result"
    }
   ],
   "source": [
    "df.shape"
   ]
  },
  {
   "cell_type": "code",
   "execution_count": 5,
   "id": "2a0eebb8",
   "metadata": {},
   "outputs": [
    {
     "data": {
      "text/plain": [
       "Gender        0\n",
       "Hemoglobin    0\n",
       "MCH           0\n",
       "MCHC          0\n",
       "MCV           0\n",
       "Result        0\n",
       "Type          0\n",
       "dtype: int64"
      ]
     },
     "execution_count": 5,
     "metadata": {},
     "output_type": "execute_result"
    }
   ],
   "source": [
    "df.isnull().sum()"
   ]
  },
  {
   "cell_type": "code",
   "execution_count": 6,
   "id": "32b67252",
   "metadata": {},
   "outputs": [
    {
     "data": {
      "text/html": [
       "<div>\n",
       "<style scoped>\n",
       "    .dataframe tbody tr th:only-of-type {\n",
       "        vertical-align: middle;\n",
       "    }\n",
       "\n",
       "    .dataframe tbody tr th {\n",
       "        vertical-align: top;\n",
       "    }\n",
       "\n",
       "    .dataframe thead th {\n",
       "        text-align: right;\n",
       "    }\n",
       "</style>\n",
       "<table border=\"1\" class=\"dataframe\">\n",
       "  <thead>\n",
       "    <tr style=\"text-align: right;\">\n",
       "      <th></th>\n",
       "      <th>Gender</th>\n",
       "      <th>Hemoglobin</th>\n",
       "      <th>MCH</th>\n",
       "      <th>MCHC</th>\n",
       "      <th>MCV</th>\n",
       "      <th>Result</th>\n",
       "    </tr>\n",
       "  </thead>\n",
       "  <tbody>\n",
       "    <tr>\n",
       "      <th>count</th>\n",
       "      <td>16721.000000</td>\n",
       "      <td>16721.000000</td>\n",
       "      <td>16721.000000</td>\n",
       "      <td>16721.000000</td>\n",
       "      <td>16721.000000</td>\n",
       "      <td>16721.000000</td>\n",
       "    </tr>\n",
       "    <tr>\n",
       "      <th>mean</th>\n",
       "      <td>0.338556</td>\n",
       "      <td>12.834874</td>\n",
       "      <td>26.995606</td>\n",
       "      <td>32.532711</td>\n",
       "      <td>83.603615</td>\n",
       "      <td>0.394414</td>\n",
       "    </tr>\n",
       "    <tr>\n",
       "      <th>std</th>\n",
       "      <td>0.473233</td>\n",
       "      <td>2.094679</td>\n",
       "      <td>3.658056</td>\n",
       "      <td>2.127328</td>\n",
       "      <td>7.783910</td>\n",
       "      <td>0.488739</td>\n",
       "    </tr>\n",
       "    <tr>\n",
       "      <th>min</th>\n",
       "      <td>0.000000</td>\n",
       "      <td>2.990000</td>\n",
       "      <td>12.550000</td>\n",
       "      <td>18.070000</td>\n",
       "      <td>49.930000</td>\n",
       "      <td>0.000000</td>\n",
       "    </tr>\n",
       "    <tr>\n",
       "      <th>25%</th>\n",
       "      <td>0.000000</td>\n",
       "      <td>11.600000</td>\n",
       "      <td>25.390000</td>\n",
       "      <td>31.500000</td>\n",
       "      <td>79.700000</td>\n",
       "      <td>0.000000</td>\n",
       "    </tr>\n",
       "    <tr>\n",
       "      <th>50%</th>\n",
       "      <td>0.000000</td>\n",
       "      <td>12.880000</td>\n",
       "      <td>27.770000</td>\n",
       "      <td>32.700000</td>\n",
       "      <td>84.400000</td>\n",
       "      <td>0.000000</td>\n",
       "    </tr>\n",
       "    <tr>\n",
       "      <th>75%</th>\n",
       "      <td>1.000000</td>\n",
       "      <td>14.190000</td>\n",
       "      <td>29.300000</td>\n",
       "      <td>33.700000</td>\n",
       "      <td>88.200000</td>\n",
       "      <td>1.000000</td>\n",
       "    </tr>\n",
       "    <tr>\n",
       "      <th>max</th>\n",
       "      <td>1.000000</td>\n",
       "      <td>22.450000</td>\n",
       "      <td>139.000000</td>\n",
       "      <td>168.000000</td>\n",
       "      <td>125.300000</td>\n",
       "      <td>1.000000</td>\n",
       "    </tr>\n",
       "  </tbody>\n",
       "</table>\n",
       "</div>"
      ],
      "text/plain": [
       "             Gender    Hemoglobin           MCH          MCHC           MCV   \n",
       "count  16721.000000  16721.000000  16721.000000  16721.000000  16721.000000  \\\n",
       "mean       0.338556     12.834874     26.995606     32.532711     83.603615   \n",
       "std        0.473233      2.094679      3.658056      2.127328      7.783910   \n",
       "min        0.000000      2.990000     12.550000     18.070000     49.930000   \n",
       "25%        0.000000     11.600000     25.390000     31.500000     79.700000   \n",
       "50%        0.000000     12.880000     27.770000     32.700000     84.400000   \n",
       "75%        1.000000     14.190000     29.300000     33.700000     88.200000   \n",
       "max        1.000000     22.450000    139.000000    168.000000    125.300000   \n",
       "\n",
       "             Result  \n",
       "count  16721.000000  \n",
       "mean       0.394414  \n",
       "std        0.488739  \n",
       "min        0.000000  \n",
       "25%        0.000000  \n",
       "50%        0.000000  \n",
       "75%        1.000000  \n",
       "max        1.000000  "
      ]
     },
     "execution_count": 6,
     "metadata": {},
     "output_type": "execute_result"
    }
   ],
   "source": [
    "df.describe()"
   ]
  },
  {
   "cell_type": "code",
   "execution_count": 7,
   "id": "f461efe2",
   "metadata": {},
   "outputs": [
    {
     "data": {
      "text/plain": [
       "<function matplotlib.pyplot.show(close=None, block=None)>"
      ]
     },
     "execution_count": 7,
     "metadata": {},
     "output_type": "execute_result"
    },
    {
     "data": {
      "image/png": "[encoded data removed]",
      "text/plain": [
       "<Figure size 432x288 with 6 Axes>"
      ]
     },
     "metadata": {
      "needs_background": "light"
     },
     "output_type": "display_data"
    }
   ],
   "source": [
    "df.hist(bins=80)\n",
    "plt.show"
   ]
  },
  {
   "cell_type": "code",
   "execution_count": 8,
   "id": "90d48db5",
   "metadata": {},
   "outputs": [
    {
     "name": "stdout",
     "output_type": "stream",
     "text": [
      "<class 'pandas.core.frame.DataFrame'>\n",
      "RangeIndex: 16721 entries, 0 to 16720\n",
      "Data columns (total 7 columns):\n",
      " #   Column      Non-Null Count  Dtype  \n",
      "---  ------      --------------  -----  \n",
      " 0   Gender      16721 non-null  int64  \n",
      " 1   Hemoglobin  16721 non-null  float64\n",
      " 2   MCH         16721 non-null  float64\n",
      " 3   MCHC        16721 non-null  float64\n",
      " 4   MCV         16721 non-null  float64\n",
      " 5   Result      16721 non-null  int64  \n",
      " 6   Type        16721 non-null  object \n",
      "dtypes: float64(4), int64(2), object(1)\n",
      "memory usage: 914.6+ KB\n"
     ]
    }
   ],
   "source": [
    "df.info()"
   ]
  },
  {
   "cell_type": "code",
   "execution_count": 9,
   "id": "dc03f53e",
   "metadata": {},
   "outputs": [
    {
     "data": {
      "image/png": "[encoded data removed]",
      "text/plain": [
       "<Figure size 504x504 with 1 Axes>"
      ]
     },
     "metadata": {
      "needs_background": "light"
     },
     "output_type": "display_data"
    }
   ],
   "source": [
    "import matplotlib.pyplot as plt\n",
    "plt.figure(figsize=(7,7))\n",
    "plt.hist(df.Result)\n",
    "plt.show()"
   ]
  },
  {
   "cell_type": "code",
   "execution_count": 10,
   "id": "a005d384",
   "metadata": {},
   "outputs": [
    {
     "data": {
      "text/plain": [
       "[10126, 6595]"
      ]
     },
     "execution_count": 10,
     "metadata": {},
     "output_type": "execute_result"
    }
   ],
   "source": [
    "col =  list(df[\"Result\"])\n",
    "str=[]\n",
    "str2=[]\n",
    "for i in col:\n",
    "    if i not in str:\n",
    "        str.append(i)\n",
    "for i in range(0,len(str)):\n",
    "    str2.append(col.count(str[i]))\n",
    "str2 "
   ]
  },
  {
   "cell_type": "code",
   "execution_count": 11,
   "id": "7f8f63ea",
   "metadata": {},
   "outputs": [
    {
     "data": {
      "text/plain": [
       "<matplotlib.legend.Legend at 0x1c3eaf5a3d0>"
      ]
     },
     "execution_count": 11,
     "metadata": {},
     "output_type": "execute_result"
    },
    {
     "data": {
      "image/png": "[encoded data removed]",
      "text/plain": [
       "<Figure size 432x288 with 1 Axes>"
      ]
     },
     "metadata": {},
     "output_type": "display_data"
    }
   ],
   "source": [
    "plt.pie(str2,labels=str,colors=[\"green\",\"red\",\"blue\"],autopct='%1.1f%%')\n",
    "plt.legend()"
   ]
  },
  {
   "cell_type": "code",
   "execution_count": 3,
   "id": "abebc20f",
   "metadata": {},
   "outputs": [],
   "source": [
    "x=df.drop(\"Result\",axis=1)\n",
    "X=x.drop(\"Type\",axis=1)\n",
    "y=df[\"Result\"]"
   ]
  },
  {
   "cell_type": "code",
   "execution_count": 4,
   "id": "c379c3bd",
   "metadata": {},
   "outputs": [],
   "source": [
    "from sklearn.preprocessing import StandardScaler\n",
    "from imblearn.over_sampling import SMOTE"
   ]
  },
  {
   "cell_type": "code",
   "execution_count": 5,
   "id": "cbdf4099",
   "metadata": {},
   "outputs": [],
   "source": [
    "scaler = StandardScaler()\n",
    "from sklearn.preprocessing import MinMaxScaler\n",
    "scaler=MinMaxScaler()\n",
    "X_norm=scaler.fit_transform(X)"
   ]
  },
  {
   "cell_type": "code",
   "execution_count": 6,
   "id": "04af5820",
   "metadata": {},
   "outputs": [
    {
     "data": {
      "text/plain": [
       "array([[1.        , 0.61202467, 0.08026888, 0.07356766, 0.44805626],\n",
       "       [0.        , 0.66341213, 0.10162119, 0.06823184, 0.29282208],\n",
       "       [0.        , 0.30883864, 0.07077896, 0.07690255, 0.28220777],\n",
       "       ...,\n",
       "       [0.        , 0.55035971, 0.1198102 , 0.10158074, 0.44142232],\n",
       "       [0.        , 0.46813977, 0.11427442, 0.0875742 , 0.4865331 ],\n",
       "       [0.        , 0.55549846, 0.12930012, 0.10891749, 0.45070983]])"
      ]
     },
     "execution_count": 6,
     "metadata": {},
     "output_type": "execute_result"
    }
   ],
   "source": [
    "X_norm"
   ]
  },
  {
   "cell_type": "code",
   "execution_count": 7,
   "id": "fb70a79c",
   "metadata": {},
   "outputs": [],
   "source": [
    "smote = SMOTE()\n",
    "X_r, y_r = smote.fit_resample(X_norm, y)"
   ]
  },
  {
   "cell_type": "code",
   "execution_count": 8,
   "id": "d35b10d5",
   "metadata": {},
   "outputs": [
    {
     "data": {
      "text/plain": [
       "[10126, 10126]"
      ]
     },
     "execution_count": 8,
     "metadata": {},
     "output_type": "execute_result"
    }
   ],
   "source": [
    "col =  list(y_r)\n",
    "str=[]\n",
    "str2=[]\n",
    "for i in col:\n",
    "    if i not in str:\n",
    "        str.append(i)\n",
    "for i in range(0,len(str)):\n",
    "    str2.append(col.count(str[i]))\n",
    "str2 "
   ]
  },
  {
   "cell_type": "code",
   "execution_count": 9,
   "id": "39d43ff6",
   "metadata": {},
   "outputs": [
    {
     "data": {
      "text/plain": [
       "<matplotlib.legend.Legend at 0x189a9157e50>"
      ]
     },
     "execution_count": 9,
     "metadata": {},
     "output_type": "execute_result"
    },
    {
     "data": {
      "image/png": "[encoded data removed]",
      "text/plain": [
       "<Figure size 432x288 with 1 Axes>"
      ]
     },
     "metadata": {},
     "output_type": "display_data"
    }
   ],
   "source": [
    "plt.pie(str2,labels=str,colors=[\"green\",\"red\",\"blue\"],autopct='%1.1f%%')\n",
    "plt.legend()"
   ]
  },
  {
   "cell_type": "code",
   "execution_count": 10,
   "id": "dfe65fae",
   "metadata": {},
   "outputs": [
    {
     "data": {
      "text/plain": [
       "<function matplotlib.pyplot.show(close=None, block=None)>"
      ]
     },
     "execution_count": 10,
     "metadata": {},
     "output_type": "execute_result"
    },
    {
     "data": {
      "image/png": "[encoded data removed]",
      "text/plain": [
       "<Figure size 432x288 with 6 Axes>"
      ]
     },
     "metadata": {
      "needs_background": "light"
     },
     "output_type": "display_data"
    }
   ],
   "source": [
    "df.hist(bins=80)\n",
    "plt.show"
   ]
  },
  {
   "cell_type": "code",
   "execution_count": 12,
   "id": "8503e55c",
   "metadata": {},
   "outputs": [],
   "source": [
    "X_train,X_test,y_train,y_test=train_test_split(X_r,y_r,test_size=0.3,random_state=25)"
   ]
  },
  {
   "cell_type": "code",
   "execution_count": 13,
   "id": "3d883edb",
   "metadata": {},
   "outputs": [
    {
     "data": {
      "text/plain": [
       "((14176, 5), (6076, 5), (14176,), (6076,))"
      ]
     },
     "execution_count": 13,
     "metadata": {},
     "output_type": "execute_result"
    }
   ],
   "source": [
    "X_train.shape, X_test.shape, y_train.shape, y_test.shape"
   ]
  },
  {
   "cell_type": "markdown",
   "id": "17ce828c",
   "metadata": {},
   "source": [
    "### Logistic Regression"
   ]
  },
  {
   "cell_type": "code",
   "execution_count": 15,
   "id": "78ba4ef0",
   "metadata": {},
   "outputs": [],
   "source": [
    "import time\n",
    "from sklearn.linear_model import LogisticRegression\n",
    "m=LogisticRegression()\n",
    "m1=m.fit(X_train,y_train)"
   ]
  },
  {
   "cell_type": "code",
   "execution_count": 16,
   "id": "459b7e4a",
   "metadata": {},
   "outputs": [],
   "source": [
    "y_act=m1.predict(X_train) #Predicting the value\n",
    "y_pre=m1.predict(X_test)"
   ]
  },
  {
   "cell_type": "code",
   "execution_count": 17,
   "id": "3672e545",
   "metadata": {},
   "outputs": [
    {
     "name": "stdout",
     "output_type": "stream",
     "text": [
      "Training Accuracy :  0.9840575620767494\n",
      "Testing Accuracy :  0.9815668202764977\n"
     ]
    }
   ],
   "source": [
    "print(\"Training Accuracy : \",accuracy_score(y_act,y_train))\n",
    "print(\"Testing Accuracy : \",accuracy_score(y_pre,y_test))"
   ]
  },
  {
   "cell_type": "code",
   "execution_count": 20,
   "id": "0b770493",
   "metadata": {},
   "outputs": [
    {
     "data": {
      "text/plain": [
       "1.0"
      ]
     },
     "execution_count": 20,
     "metadata": {},
     "output_type": "execute_result"
    }
   ],
   "source": [
    "p=precision_score(y_pre,y_test)\n",
    "p"
   ]
  },
  {
   "cell_type": "code",
   "execution_count": 22,
   "id": "db67df80",
   "metadata": {},
   "outputs": [
    {
     "data": {
      "image/png": "[encoded data removed]",
      "text/plain": [
       "<Figure size 432x288 with 2 Axes>"
      ]
     },
     "metadata": {
      "needs_background": "light"
     },
     "output_type": "display_data"
    }
   ],
   "source": [
    "from sklearn import metrics\n",
    "confusion_matrix=metrics.confusion_matrix(y_test,y_pre)\n",
    "cm_display = metrics.ConfusionMatrixDisplay(confusion_matrix = confusion_matrix, display_labels = [True,False])\n",
    "cm_display.plot()\n",
    "plt.show()"
   ]
  },
  {
   "cell_type": "code",
   "execution_count": 32,
   "id": "42587780",
   "metadata": {},
   "outputs": [
    {
     "name": "stdout",
     "output_type": "stream",
     "text": [
      "[0.98223538 0.97631384 0.98962963 0.97333333 0.96148148 0.96888889\n",
      " 0.98814815 0.99777778 0.98518519 0.9562963  0.98518519 0.9837037\n",
      " 0.96222222 0.9837037  0.98740741]\n"
     ]
    }
   ],
   "source": [
    "##Stratified k-fold cross validation\n",
    "from sklearn.model_selection import cross_val_score\n",
    "from sklearn.model_selection import StratifiedKFold\n",
    "skfold=StratifiedKFold(n_splits=15)\n",
    "model=LogisticRegression()\n",
    "scores=cross_val_score(model,X_r,y_r,cv=skfold)\n",
    "print(scores)"
   ]
  },
  {
   "cell_type": "code",
   "execution_count": 33,
   "id": "31c08f2b",
   "metadata": {},
   "outputs": [
    {
     "data": {
      "text/plain": [
       "0.9787674790507259"
      ]
     },
     "execution_count": 33,
     "metadata": {},
     "output_type": "execute_result"
    }
   ],
   "source": [
    "np.mean(scores)"
   ]
  },
  {
   "cell_type": "markdown",
   "id": "f944d9ba",
   "metadata": {},
   "source": [
    "### SVM"
   ]
  },
  {
   "cell_type": "code",
   "execution_count": 25,
   "id": "ced1fe5c",
   "metadata": {},
   "outputs": [],
   "source": [
    "from sklearn.svm import SVC"
   ]
  },
  {
   "cell_type": "code",
   "execution_count": 27,
   "id": "8a2a3bb5",
   "metadata": {},
   "outputs": [
    {
     "name": "stdout",
     "output_type": "stream",
     "text": [
      "Training Accuracy: 0.9857505643340858\n",
      "Testing Accuracy :  0.9851876234364714\n"
     ]
    }
   ],
   "source": [
    "from sklearn import svm\n",
    "model=svm.SVC(kernel='rbf')\n",
    "model.fit(X_train,y_train)\n",
    "y_te_pred=model.predict(X_test)\n",
    "y_act=model.predict(X_train)\n",
    "print(\"Training Accuracy:\",accuracy_score(y_train,y_act))\n",
    "print(\"Testing Accuracy : \",accuracy_score(y_test,y_te_pred))\n"
   ]
  },
  {
   "cell_type": "code",
   "execution_count": 28,
   "id": "ba97084e",
   "metadata": {},
   "outputs": [
    {
     "data": {
      "text/plain": [
       "0.9856227128263922"
      ]
     },
     "execution_count": 28,
     "metadata": {},
     "output_type": "execute_result"
    }
   ],
   "source": [
    "#Precision score\n",
    "from sklearn.metrics import precision_score\n",
    "p=precision_score(y_test,y_te_pred, labels=None, pos_label=1, average='weighted', sample_weight=None, zero_division='warn')\n",
    "p"
   ]
  },
  {
   "cell_type": "code",
   "execution_count": 29,
   "id": "5a23b9db",
   "metadata": {},
   "outputs": [
    {
     "data": {
      "text/plain": [
       "0.9851876234364714"
      ]
     },
     "execution_count": 29,
     "metadata": {},
     "output_type": "execute_result"
    }
   ],
   "source": [
    "#Recall score\n",
    "from sklearn.metrics import recall_score \n",
    "r=recall_score(y_test,y_te_pred,labels=None,pos_label=1,average='micro',sample_weight=None,zero_division='warn')\n",
    "r"
   ]
  },
  {
   "cell_type": "code",
   "execution_count": 30,
   "id": "b81519b1",
   "metadata": {},
   "outputs": [
    {
     "data": {
      "image/png": "[encoded data removed]",
      "text/plain": [
       "<Figure size 432x288 with 2 Axes>"
      ]
     },
     "metadata": {
      "needs_background": "light"
     },
     "output_type": "display_data"
    }
   ],
   "source": [
    "from sklearn import metrics\n",
    "confusion_matrix=metrics.confusion_matrix(y_test,y_te_pred)\n",
    "cm_display = metrics.ConfusionMatrixDisplay(confusion_matrix = confusion_matrix, display_labels = [True,False])\n",
    "cm_display.plot()\n",
    "plt.show()"
   ]
  },
  {
   "cell_type": "code",
   "execution_count": 36,
   "id": "f9c1b9c4",
   "metadata": {},
   "outputs": [
    {
     "name": "stdout",
     "output_type": "stream",
     "text": [
      "[0.98593634 0.98223538 0.99185185 0.97407407 0.97037037 0.97407407\n",
      " 0.98296296 0.99777778 0.99037037 0.92222222 0.9837037  0.98518519\n",
      " 0.96518519 0.99481481 0.99111111]\n"
     ]
    }
   ],
   "source": [
    "##Stratified k-fold cross validation\n",
    "from sklearn.model_selection import cross_val_score\n",
    "from sklearn.model_selection import StratifiedKFold\n",
    "skfold=StratifiedKFold(n_splits=15)\n",
    "model=svm.SVC()\n",
    "scores=cross_val_score(model,X_r,y_r,cv=skfold)\n",
    "print(scores)"
   ]
  },
  {
   "cell_type": "code",
   "execution_count": 37,
   "id": "41efb91d",
   "metadata": {},
   "outputs": [
    {
     "data": {
      "text/plain": [
       "0.9794583618901408"
      ]
     },
     "execution_count": 37,
     "metadata": {},
     "output_type": "execute_result"
    }
   ],
   "source": [
    "np.mean(scores)"
   ]
  },
  {
   "cell_type": "code",
   "execution_count": 80,
   "id": "01e43c6d",
   "metadata": {},
   "outputs": [
    {
     "name": "stdout",
     "output_type": "stream",
     "text": [
      "Accuracy: 0.8999402033087502\n"
     ]
    },
    {
     "data": {
      "text/plain": [
       "11.412858247756958"
      ]
     },
     "execution_count": 80,
     "metadata": {},
     "output_type": "execute_result"
    }
   ],
   "source": [
    "from sklearn.svm import NuSVC\n",
    "from sklearn.model_selection import train_test_split\n",
    "from sklearn.metrics import accuracy_score\n",
    "\n",
    "\n",
    "st=time.time()\n",
    "\n",
    "# Train model\n",
    "model = NuSVC(nu=0.5, kernel='rbf', gamma='scale')\n",
    "model.fit(X_train, y_train)\n",
    "\n",
    "# Make predictions\n",
    "y_pred = model.predict(X_test)\n",
    "# Evaluate performance\n",
    "accuracy = accuracy_score(y_test, y_pred)\n",
    "print(f'Accuracy: {accuracy}')\n",
    "et=time.time()\n",
    "et-st"
   ]
  },
  {
   "cell_type": "markdown",
   "id": "09b5a679",
   "metadata": {},
   "source": [
    "### LOG+SVM"
   ]
  },
  {
   "cell_type": "code",
   "execution_count": 39,
   "id": "d8fd37a3",
   "metadata": {},
   "outputs": [
    {
     "name": "stderr",
     "output_type": "stream",
     "text": [
      "C:\\Users\\Shweta\\anaconda3\\lib\\site-packages\\sklearn\\svm\\_base.py:1244: ConvergenceWarning: Liblinear failed to converge, increase the number of iterations.\n",
      "  warnings.warn(\n"
     ]
    },
    {
     "name": "stdout",
     "output_type": "stream",
     "text": [
      "Accuracy: 99.85%\n"
     ]
    }
   ],
   "source": [
    "from sklearn.model_selection import train_test_split\n",
    "from sklearn.linear_model import LogisticRegression\n",
    "from sklearn.svm import SVC\n",
    "from sklearn.pipeline import Pipeline\n",
    "from sklearn.preprocessing import StandardScaler\n",
    "from sklearn.feature_selection import SelectFromModel\n",
    "\n",
    "\n",
    "logistic_svm = Pipeline([\n",
    "    ('feature_selection', SelectFromModel(LogisticRegression(penalty='l1', solver='liblinear'))),\n",
    "    ('scaler', StandardScaler()),\n",
    "    ('svm', SVC(kernel='rbf', C=11, gamma=0.3))\n",
    "])\n",
    "\n",
    "# Train the hybrid model on the training set\n",
    "logistic_svm.fit(X_train, y_train)\n",
    "\n",
    "# Evaluate the hybrid model on the testing set\n",
    "score = logistic_svm.score(X_test, y_test)\n",
    "print(\"Accuracy: {:.2f}%\".format(score * 100))"
   ]
  },
  {
   "cell_type": "markdown",
   "id": "03b9d4f7",
   "metadata": {},
   "source": [
    "### DEcision trees"
   ]
  },
  {
   "cell_type": "code",
   "execution_count": 40,
   "id": "4e295aa8",
   "metadata": {},
   "outputs": [],
   "source": [
    "from sklearn.tree import DecisionTreeClassifier\n",
    "model=DecisionTreeClassifier()\n",
    "model.fit(X_train,y_train)\n",
    "y_act=model.predict(X_train)\n",
    "y_te_pred=model.predict(X_test)"
   ]
  },
  {
   "cell_type": "code",
   "execution_count": 42,
   "id": "d8256f4a",
   "metadata": {},
   "outputs": [
    {
     "name": "stdout",
     "output_type": "stream",
     "text": [
      "Training accuracy 0.9857505643340858\n",
      "Testing Accuracy :  1.0\n"
     ]
    }
   ],
   "source": [
    "#Accuracy\n",
    "print(\"Training accuracy\", accuracy_score(y_train,y_act))\n",
    "print(\"Testing Accuracy : \",accuracy_score(y_test,y_te_pred))"
   ]
  },
  {
   "cell_type": "code",
   "execution_count": 43,
   "id": "74aa7a54",
   "metadata": {},
   "outputs": [
    {
     "data": {
      "text/plain": [
       "1.0"
      ]
     },
     "execution_count": 43,
     "metadata": {},
     "output_type": "execute_result"
    }
   ],
   "source": [
    "#Precision score\n",
    "from sklearn.metrics import precision_score\n",
    "p=precision_score(y_test,y_te_pred, labels=None, pos_label=1, average='weighted', sample_weight=None, zero_division='warn')\n",
    "p"
   ]
  },
  {
   "cell_type": "code",
   "execution_count": 44,
   "id": "a723a921",
   "metadata": {},
   "outputs": [
    {
     "data": {
      "text/plain": [
       "1.0"
      ]
     },
     "execution_count": 44,
     "metadata": {},
     "output_type": "execute_result"
    }
   ],
   "source": [
    "#Precision score\n",
    "from sklearn.metrics import recall_score\n",
    "r=recall_score(y_test,y_te_pred, labels=None, pos_label=1, average='weighted', sample_weight=None, zero_division='warn')\n",
    "r"
   ]
  },
  {
   "cell_type": "code",
   "execution_count": 45,
   "id": "69c55cf3",
   "metadata": {},
   "outputs": [
    {
     "name": "stdout",
     "output_type": "stream",
     "text": [
      "[1.         1.         1.         1.         0.98654306]\n"
     ]
    }
   ],
   "source": [
    "##Stratified k-fold cross validation\n",
    "from sklearn.model_selection import cross_val_score\n",
    "from sklearn.model_selection import StratifiedKFold\n",
    "skfold=StratifiedKFold(n_splits=5)\n",
    "model=DecisionTreeClassifier()\n",
    "scores=cross_val_score(model,X,y,cv=skfold)\n",
    "print(scores)"
   ]
  },
  {
   "cell_type": "code",
   "execution_count": 46,
   "id": "5ed0d92f",
   "metadata": {},
   "outputs": [
    {
     "data": {
      "text/plain": [
       "0.9973086124401913"
      ]
     },
     "execution_count": 46,
     "metadata": {},
     "output_type": "execute_result"
    }
   ],
   "source": [
    "np.mean(scores)\n"
   ]
  },
  {
   "cell_type": "code",
   "execution_count": 47,
   "id": "8722e7a6",
   "metadata": {},
   "outputs": [
    {
     "name": "stdout",
     "output_type": "stream",
     "text": [
      "              precision    recall  f1-score   support\n",
      "\n",
      "           0       1.00      1.00      1.00      3102\n",
      "           1       1.00      1.00      1.00      2974\n",
      "\n",
      "    accuracy                           1.00      6076\n",
      "   macro avg       1.00      1.00      1.00      6076\n",
      "weighted avg       1.00      1.00      1.00      6076\n",
      "\n"
     ]
    }
   ],
   "source": [
    "from sklearn.metrics import confusion_matrix,classification_report\n",
    "print(classification_report(y_test,y_te_pred))"
   ]
  },
  {
   "cell_type": "code",
   "execution_count": 48,
   "id": "7dce51a2",
   "metadata": {},
   "outputs": [
    {
     "name": "stdout",
     "output_type": "stream",
     "text": [
      "              precision    recall  f1-score   support\n",
      "\n",
      "           0       1.00      0.97      0.99      7024\n",
      "           1       0.97      1.00      0.99      7152\n",
      "\n",
      "    accuracy                           0.99     14176\n",
      "   macro avg       0.99      0.99      0.99     14176\n",
      "weighted avg       0.99      0.99      0.99     14176\n",
      "\n"
     ]
    }
   ],
   "source": [
    "from sklearn.metrics import confusion_matrix,classification_report\n",
    "print(classification_report(y_train,y_act))"
   ]
  },
  {
   "cell_type": "code",
   "execution_count": 49,
   "id": "3eb938ba",
   "metadata": {},
   "outputs": [
    {
     "data": {
      "image/png": "[encoded data removed]",
      "text/plain": [
       "<Figure size 432x288 with 2 Axes>"
      ]
     },
     "metadata": {
      "needs_background": "light"
     },
     "output_type": "display_data"
    }
   ],
   "source": [
    "from sklearn import metrics\n",
    "confusion_matrix=metrics.confusion_matrix(y_test,y_te_pred)\n",
    "cm_display = metrics.ConfusionMatrixDisplay(confusion_matrix = confusion_matrix, display_labels = [True,False])\n",
    "cm_display.plot()\n",
    "plt.show()"
   ]
  },
  {
   "cell_type": "markdown",
   "id": "75ea5bc3",
   "metadata": {},
   "source": [
    "### Random Forest"
   ]
  },
  {
   "cell_type": "code",
   "execution_count": 51,
   "id": "2ef96815",
   "metadata": {},
   "outputs": [
    {
     "name": "stdout",
     "output_type": "stream",
     "text": [
      "Training Accuracy :  1.0\n",
      "Testing Accuracy :  0.9996013553916683\n"
     ]
    }
   ],
   "source": [
    "st=time.time()\n",
    "from sklearn.ensemble import RandomForestClassifier \n",
    "m= RandomForestClassifier(n_estimators=10)\n",
    "m1=m.fit(X_train,y_train)\n",
    "y_act=m1.predict(X_train) #Predicting the value\n",
    "y_pre=m1.predict(X_test)\n",
    "print(\"Training Accuracy : \",accuracy_score(y_act,y_train))\n",
    "print(\"Testing Accuracy : \",accuracy_score(y_pre,y_test))"
   ]
  },
  {
   "cell_type": "code",
   "execution_count": 52,
   "id": "479932da",
   "metadata": {},
   "outputs": [
    {
     "data": {
      "image/png": "[encoded data removed]",
      "text/plain": [
       "<Figure size 432x288 with 2 Axes>"
      ]
     },
     "metadata": {
      "needs_background": "light"
     },
     "output_type": "display_data"
    }
   ],
   "source": [
    "from sklearn import metrics\n",
    "confusion_matrix=metrics.confusion_matrix(y_test,y_pre)\n",
    "cm_display = metrics.ConfusionMatrixDisplay(confusion_matrix = confusion_matrix, display_labels = [False, True])\n",
    "cm_display.plot()\n",
    "plt.show()"
   ]
  },
  {
   "cell_type": "markdown",
   "id": "accfac5a",
   "metadata": {},
   "source": [
    "### KNN"
   ]
  },
  {
   "cell_type": "code",
   "execution_count": 81,
   "id": "3edf4dac",
   "metadata": {},
   "outputs": [
    {
     "name": "stdout",
     "output_type": "stream",
     "text": [
      " Training Accuracy: 0.9849624060150376\n",
      " Testing Accuracy: 0.9609328283834961\n"
     ]
    }
   ],
   "source": [
    "from sklearn.neighbors import KNeighborsClassifier\n",
    "knn = KNeighborsClassifier(n_neighbors=3)\n",
    "knn.fit(X_train, y_train)\n",
    "y_pred = knn.predict(X_test)\n",
    "y_act=knn.predict(X_train)\n",
    "accuracy = accuracy_score(y_test, y_pred)\n",
    "acc=accuracy_score(y_train,y_act)\n",
    "print(\" Training Accuracy:\", acc)\n",
    "print(\" Testing Accuracy:\", accuracy)"
   ]
  },
  {
   "cell_type": "code",
   "execution_count": 82,
   "id": "67519a54",
   "metadata": {},
   "outputs": [
    {
     "data": {
      "image/png": "[encoded data removed]",
      "text/plain": [
       "<Figure size 432x288 with 2 Axes>"
      ]
     },
     "metadata": {
      "needs_background": "light"
     },
     "output_type": "display_data"
    }
   ],
   "source": [
    "from sklearn import metrics\n",
    "confusion_matrix=metrics.confusion_matrix(y_test,y_pred)\n",
    "cm_display = metrics.ConfusionMatrixDisplay(confusion_matrix = confusion_matrix, display_labels = [False, True])\n",
    "cm_display.plot()\n",
    "plt.show()"
   ]
  },
  {
   "cell_type": "markdown",
   "id": "602e47f2",
   "metadata": {},
   "source": [
    "### Nb"
   ]
  },
  {
   "cell_type": "code",
   "execution_count": 83,
   "id": "98a20b21",
   "metadata": {},
   "outputs": [
    {
     "name": "stdout",
     "output_type": "stream",
     "text": [
      "Training accuray 0.8353554340396445\n",
      "Accuracy: 0.8339645206298585\n"
     ]
    }
   ],
   "source": [
    "from sklearn.naive_bayes import GaussianNB\n",
    "nb = GaussianNB()\n",
    "nb.fit(X_train, y_train)\n",
    "y_pred = nb.predict(X_test)\n",
    "y_act=nb.predict(X_train)\n",
    "# evaluate accuracy\n",
    "accuracy = accuracy_score(y_test, y_pred)\n",
    "print(\"Training accuray\",accuracy_score(y_train,y_act))\n",
    "print(f\"Accuracy: {accuracy}\")\n"
   ]
  },
  {
   "cell_type": "code",
   "execution_count": 84,
   "id": "cffcceb7",
   "metadata": {},
   "outputs": [
    {
     "data": {
      "image/png": "[encoded data removed]",
      "text/plain": [
       "<Figure size 432x288 with 2 Axes>"
      ]
     },
     "metadata": {
      "needs_background": "light"
     },
     "output_type": "display_data"
    }
   ],
   "source": [
    "from sklearn import metrics\n",
    "confusion_matrix=metrics.confusion_matrix(y_test,y_pred)\n",
    "cm_display = metrics.ConfusionMatrixDisplay(confusion_matrix = confusion_matrix, display_labels = [False, True])\n",
    "cm_display.plot()\n",
    "plt.show()"
   ]
  },
  {
   "cell_type": "markdown",
   "id": "aa8b5a56",
   "metadata": {},
   "source": [
    "### Linear Discriminant Analysis"
   ]
  },
  {
   "cell_type": "code",
   "execution_count": 61,
   "id": "fce331ef",
   "metadata": {},
   "outputs": [
    {
     "name": "stdout",
     "output_type": "stream",
     "text": [
      "Training 0.9476247436773753\n",
      "0.9515646800877018\n"
     ]
    }
   ],
   "source": [
    "from sklearn.discriminant_analysis import LinearDiscriminantAnalysis\n",
    "LDA = LinearDiscriminantAnalysis()\n",
    "LDA.fit(X_train, y_train)\n",
    "LDA_pred=LDA.predict(X_test)\n",
    "y_act=LDA.predict(X_train)\n",
    "print(\"Training\",accuracy_score(y_train,y_act))\n",
    "print(accuracy_score(y_test,LDA_pred))"
   ]
  },
  {
   "cell_type": "markdown",
   "id": "54dd252f",
   "metadata": {},
   "source": [
    "### Quadratic Discriminant Analysis"
   ]
  },
  {
   "cell_type": "code",
   "execution_count": 62,
   "id": "56ab8912",
   "metadata": {},
   "outputs": [
    {
     "name": "stdout",
     "output_type": "stream",
     "text": [
      "Training 0.917634996582365\n",
      "0.9180785329878414\n"
     ]
    }
   ],
   "source": [
    "from sklearn.discriminant_analysis import QuadraticDiscriminantAnalysis\n",
    "QDA = QuadraticDiscriminantAnalysis()\n",
    "QDA.fit(X_train,y_train)\n",
    "QDA_pred=QDA.predict(X_test)\n",
    "y_act=QDA.predict(X_train)\n",
    "print(\"Training\",accuracy_score(y_train,y_act))\n",
    "print(accuracy_score(y_test,QDA_pred))"
   ]
  },
  {
   "cell_type": "markdown",
   "id": "c5c39cca",
   "metadata": {},
   "source": [
    "### ANN"
   ]
  },
  {
   "cell_type": "code",
   "execution_count": 63,
   "id": "97c628f8",
   "metadata": {},
   "outputs": [
    {
     "name": "stdout",
     "output_type": "stream",
     "text": [
      "Requirement already satisfied: tensorflow in c:\\users\\shweta\\anaconda3\\lib\\site-packages (2.11.0)\n",
      "Requirement already satisfied: tensorflow-intel==2.11.0 in c:\\users\\shweta\\anaconda3\\lib\\site-packages (from tensorflow) (2.11.0)\n",
      "Requirement already satisfied: termcolor>=1.1.0 in c:\\users\\shweta\\anaconda3\\lib\\site-packages (from tensorflow-intel==2.11.0->tensorflow) (2.2.0)\n",
      "Requirement already satisfied: numpy>=1.20 in c:\\users\\shweta\\anaconda3\\lib\\site-packages (from tensorflow-intel==2.11.0->tensorflow) (1.21.5)\n",
      "Requirement already satisfied: keras<2.12,>=2.11.0 in c:\\users\\shweta\\anaconda3\\lib\\site-packages (from tensorflow-intel==2.11.0->tensorflow) (2.11.0)\n",
      "Requirement already satisfied: tensorflow-estimator<2.12,>=2.11.0 in c:\\users\\shweta\\anaconda3\\lib\\site-packages (from tensorflow-intel==2.11.0->tensorflow) (2.11.0)\n",
      "Requirement already satisfied: tensorboard<2.12,>=2.11 in c:\\users\\shweta\\anaconda3\\lib\\site-packages (from tensorflow-intel==2.11.0->tensorflow) (2.11.2)\n",
      "Requirement already satisfied: grpcio<2.0,>=1.24.3 in c:\\users\\shweta\\anaconda3\\lib\\site-packages (from tensorflow-intel==2.11.0->tensorflow) (1.42.0)\n",
      "Requirement already satisfied: tensorflow-io-gcs-filesystem>=0.23.1 in c:\\users\\shweta\\anaconda3\\lib\\site-packages (from tensorflow-intel==2.11.0->tensorflow) (0.31.0)\n",
      "Requirement already satisfied: six>=1.12.0 in c:\\users\\shweta\\anaconda3\\lib\\site-packages (from tensorflow-intel==2.11.0->tensorflow) (1.16.0)\n",
      "Requirement already satisfied: astunparse>=1.6.0 in c:\\users\\shweta\\anaconda3\\lib\\site-packages (from tensorflow-intel==2.11.0->tensorflow) (1.6.3)\n",
      "Requirement already satisfied: protobuf<3.20,>=3.9.2 in c:\\users\\shweta\\anaconda3\\lib\\site-packages (from tensorflow-intel==2.11.0->tensorflow) (3.19.1)\n",
      "Note: you may need to restart the kernel to use updated packages.Requirement already satisfied: gast<=0.4.0,>=0.2.1 in c:\\users\\shweta\\anaconda3\\lib\\site-packages (from tensorflow-intel==2.11.0->tensorflow) (0.4.0)\n",
      "Requirement already satisfied: packaging in c:\\users\\shweta\\anaconda3\\lib\\site-packages (from tensorflow-intel==2.11.0->tensorflow) (21.3)\n",
      "Requirement already satisfied: libclang>=13.0.0 in c:\\users\\shweta\\anaconda3\\lib\\site-packages (from tensorflow-intel==2.11.0->tensorflow) (15.0.6.1)\n",
      "Requirement already satisfied: absl-py>=1.0.0 in c:\\users\\shweta\\anaconda3\\lib\\site-packages (from tensorflow-intel==2.11.0->tensorflow) (1.4.0)\n",
      "Requirement already satisfied: opt-einsum>=2.3.2 in c:\\users\\shweta\\anaconda3\\lib\\site-packages (from tensorflow-intel==2.11.0->tensorflow) (3.3.0)\n",
      "\n",
      "Requirement already satisfied: h5py>=2.9.0 in c:\\users\\shweta\\anaconda3\\lib\\site-packages (from tensorflow-intel==2.11.0->tensorflow) (3.6.0)\n",
      "Requirement already satisfied: setuptools in c:\\users\\shweta\\anaconda3\\lib\\site-packages (from tensorflow-intel==2.11.0->tensorflow) (67.6.1)\n",
      "Requirement already satisfied: typing-extensions>=3.6.6 in c:\\users\\shweta\\anaconda3\\lib\\site-packages (from tensorflow-intel==2.11.0->tensorflow) (4.1.1)\n",
      "Requirement already satisfied: flatbuffers>=2.0 in c:\\users\\shweta\\anaconda3\\lib\\site-packages (from tensorflow-intel==2.11.0->tensorflow) (23.3.3)\n",
      "Requirement already satisfied: wrapt>=1.11.0 in c:\\users\\shweta\\anaconda3\\lib\\site-packages (from tensorflow-intel==2.11.0->tensorflow) (1.12.1)\n",
      "Requirement already satisfied: google-pasta>=0.1.1 in c:\\users\\shweta\\anaconda3\\lib\\site-packages (from tensorflow-intel==2.11.0->tensorflow) (0.2.0)\n",
      "Requirement already satisfied: wheel<1.0,>=0.23.0 in c:\\users\\shweta\\anaconda3\\lib\\site-packages (from astunparse>=1.6.0->tensorflow-intel==2.11.0->tensorflow) (0.37.1)\n",
      "Requirement already satisfied: werkzeug>=1.0.1 in c:\\users\\shweta\\anaconda3\\lib\\site-packages (from tensorboard<2.12,>=2.11->tensorflow-intel==2.11.0->tensorflow) (2.0.3)\n",
      "Requirement already satisfied: markdown>=2.6.8 in c:\\users\\shweta\\anaconda3\\lib\\site-packages (from tensorboard<2.12,>=2.11->tensorflow-intel==2.11.0->tensorflow) (3.3.4)\n",
      "Requirement already satisfied: requests<3,>=2.21.0 in c:\\users\\shweta\\anaconda3\\lib\\site-packages (from tensorboard<2.12,>=2.11->tensorflow-intel==2.11.0->tensorflow) (2.27.1)\n",
      "Requirement already satisfied: google-auth-oauthlib<0.5,>=0.4.1 in c:\\users\\shweta\\anaconda3\\lib\\site-packages (from tensorboard<2.12,>=2.11->tensorflow-intel==2.11.0->tensorflow) (0.4.6)\n",
      "Requirement already satisfied: google-auth<3,>=1.6.3 in c:\\users\\shweta\\anaconda3\\lib\\site-packages (from tensorboard<2.12,>=2.11->tensorflow-intel==2.11.0->tensorflow) (1.33.0)\n",
      "Requirement already satisfied: tensorboard-plugin-wit>=1.6.0 in c:\\users\\shweta\\anaconda3\\lib\\site-packages (from tensorboard<2.12,>=2.11->tensorflow-intel==2.11.0->tensorflow) (1.8.1)\n",
      "Requirement already satisfied: tensorboard-data-server<0.7.0,>=0.6.0 in c:\\users\\shweta\\anaconda3\\lib\\site-packages (from tensorboard<2.12,>=2.11->tensorflow-intel==2.11.0->tensorflow) (0.6.1)\n",
      "Requirement already satisfied: rsa<5,>=3.1.4 in c:\\users\\shweta\\anaconda3\\lib\\site-packages (from google-auth<3,>=1.6.3->tensorboard<2.12,>=2.11->tensorflow-intel==2.11.0->tensorflow) (4.7.2)\n",
      "Requirement already satisfied: cachetools<5.0,>=2.0.0 in c:\\users\\shweta\\anaconda3\\lib\\site-packages (from google-auth<3,>=1.6.3->tensorboard<2.12,>=2.11->tensorflow-intel==2.11.0->tensorflow) (4.2.2)\n",
      "Requirement already satisfied: pyasn1-modules>=0.2.1 in c:\\users\\shweta\\anaconda3\\lib\\site-packages (from google-auth<3,>=1.6.3->tensorboard<2.12,>=2.11->tensorflow-intel==2.11.0->tensorflow) (0.2.8)\n",
      "Requirement already satisfied: requests-oauthlib>=0.7.0 in c:\\users\\shweta\\anaconda3\\lib\\site-packages (from google-auth-oauthlib<0.5,>=0.4.1->tensorboard<2.12,>=2.11->tensorflow-intel==2.11.0->tensorflow) (1.3.1)\n",
      "Requirement already satisfied: pyasn1<0.5.0,>=0.4.6 in c:\\users\\shweta\\anaconda3\\lib\\site-packages (from pyasn1-modules>=0.2.1->google-auth<3,>=1.6.3->tensorboard<2.12,>=2.11->tensorflow-intel==2.11.0->tensorflow) (0.4.8)\n",
      "Requirement already satisfied: certifi>=2017.4.17 in c:\\users\\shweta\\anaconda3\\lib\\site-packages (from requests<3,>=2.21.0->tensorboard<2.12,>=2.11->tensorflow-intel==2.11.0->tensorflow) (2021.10.8)\n",
      "Requirement already satisfied: charset-normalizer~=2.0.0 in c:\\users\\shweta\\anaconda3\\lib\\site-packages (from requests<3,>=2.21.0->tensorboard<2.12,>=2.11->tensorflow-intel==2.11.0->tensorflow) (2.0.4)\n",
      "Requirement already satisfied: idna<4,>=2.5 in c:\\users\\shweta\\anaconda3\\lib\\site-packages (from requests<3,>=2.21.0->tensorboard<2.12,>=2.11->tensorflow-intel==2.11.0->tensorflow) (3.3)\n",
      "Requirement already satisfied: urllib3<1.27,>=1.21.1 in c:\\users\\shweta\\anaconda3\\lib\\site-packages (from requests<3,>=2.21.0->tensorboard<2.12,>=2.11->tensorflow-intel==2.11.0->tensorflow) (1.26.9)\n",
      "Requirement already satisfied: oauthlib>=3.0.0 in c:\\users\\shweta\\anaconda3\\lib\\site-packages (from requests-oauthlib>=0.7.0->google-auth-oauthlib<0.5,>=0.4.1->tensorboard<2.12,>=2.11->tensorflow-intel==2.11.0->tensorflow) (3.2.2)\n",
      "Requirement already satisfied: pyparsing!=3.0.5,>=2.0.2 in c:\\users\\shweta\\anaconda3\\lib\\site-packages (from packaging->tensorflow-intel==2.11.0->tensorflow) (3.0.4)\n"
     ]
    }
   ],
   "source": [
    "pip install tensorflow"
   ]
  },
  {
   "cell_type": "code",
   "execution_count": 64,
   "id": "d7e6d923",
   "metadata": {},
   "outputs": [
    {
     "name": "stdout",
     "output_type": "stream",
     "text": [
      "Requirement already satisfied: keras in c:\\users\\shweta\\anaconda3\\lib\\site-packages (2.11.0)\n",
      "Note: you may need to restart the kernel to use updated packages.\n"
     ]
    }
   ],
   "source": [
    "pip install keras"
   ]
  },
  {
   "cell_type": "code",
   "execution_count": 65,
   "id": "0cd829df",
   "metadata": {},
   "outputs": [],
   "source": [
    "import keras\n",
    "from keras.models import Sequential\n",
    "from keras.layers import Dense"
   ]
  },
  {
   "cell_type": "code",
   "execution_count": 66,
   "id": "16f88f40",
   "metadata": {},
   "outputs": [],
   "source": [
    "classifier = Sequential()"
   ]
  },
  {
   "cell_type": "code",
   "execution_count": 67,
   "id": "01717d01",
   "metadata": {},
   "outputs": [
    {
     "name": "stdout",
     "output_type": "stream",
     "text": [
      "Epoch 1/50\n",
      "366/366 [==============================] - 2s 2ms/step - loss: 1.3362 - accuracy: 0.6445\n",
      "Epoch 2/50\n",
      "366/366 [==============================] - 1s 1ms/step - loss: 0.6050 - accuracy: 0.6708\n",
      "Epoch 3/50\n",
      "366/366 [==============================] - 0s 1ms/step - loss: 0.5752 - accuracy: 0.6936\n",
      "Epoch 4/50\n",
      "366/366 [==============================] - 0s 1ms/step - loss: 0.5357 - accuracy: 0.7358\n",
      "Epoch 5/50\n",
      "366/366 [==============================] - 0s 1ms/step - loss: 0.4935 - accuracy: 0.7745\n",
      "Epoch 6/50\n",
      "366/366 [==============================] - 0s 1ms/step - loss: 0.4495 - accuracy: 0.8132\n",
      "Epoch 7/50\n",
      "366/366 [==============================] - 0s 1ms/step - loss: 0.4053 - accuracy: 0.8506\n",
      "Epoch 8/50\n",
      "366/366 [==============================] - 0s 1ms/step - loss: 0.3557 - accuracy: 0.8848\n",
      "Epoch 9/50\n",
      "366/366 [==============================] - 0s 1ms/step - loss: 0.3129 - accuracy: 0.9082\n",
      "Epoch 10/50\n",
      "366/366 [==============================] - 0s 1ms/step - loss: 0.2758 - accuracy: 0.9268\n",
      "Epoch 11/50\n",
      "366/366 [==============================] - 0s 1ms/step - loss: 0.2488 - accuracy: 0.9375\n",
      "Epoch 12/50\n",
      "366/366 [==============================] - 0s 1ms/step - loss: 0.2269 - accuracy: 0.9440\n",
      "Epoch 13/50\n",
      "366/366 [==============================] - 0s 1ms/step - loss: 0.2092 - accuracy: 0.9463\n",
      "Epoch 14/50\n",
      "366/366 [==============================] - 0s 1ms/step - loss: 0.1929 - accuracy: 0.9514\n",
      "Epoch 15/50\n",
      "366/366 [==============================] - 0s 1ms/step - loss: 0.1834 - accuracy: 0.9536\n",
      "Epoch 16/50\n",
      "366/366 [==============================] - 0s 1ms/step - loss: 0.1724 - accuracy: 0.9571\n",
      "Epoch 17/50\n",
      "366/366 [==============================] - 0s 1ms/step - loss: 0.1655 - accuracy: 0.9580\n",
      "Epoch 18/50\n",
      "366/366 [==============================] - 0s 1ms/step - loss: 0.1593 - accuracy: 0.9593\n",
      "Epoch 19/50\n",
      "366/366 [==============================] - 0s 1ms/step - loss: 0.1542 - accuracy: 0.9586\n",
      "Epoch 20/50\n",
      "366/366 [==============================] - 0s 1ms/step - loss: 0.1509 - accuracy: 0.9597\n",
      "Epoch 21/50\n",
      "366/366 [==============================] - 0s 1ms/step - loss: 0.1498 - accuracy: 0.9559\n",
      "Epoch 22/50\n",
      "366/366 [==============================] - 0s 1ms/step - loss: 0.1472 - accuracy: 0.9574\n",
      "Epoch 23/50\n",
      "366/366 [==============================] - 0s 1ms/step - loss: 0.1432 - accuracy: 0.9586\n",
      "Epoch 24/50\n",
      "366/366 [==============================] - 0s 1ms/step - loss: 0.1431 - accuracy: 0.9594\n",
      "Epoch 25/50\n",
      "366/366 [==============================] - 0s 1ms/step - loss: 0.1421 - accuracy: 0.9580\n",
      "Epoch 26/50\n",
      "366/366 [==============================] - 0s 1ms/step - loss: 0.1393 - accuracy: 0.9584\n",
      "Epoch 27/50\n",
      "366/366 [==============================] - 0s 1ms/step - loss: 0.1373 - accuracy: 0.9601\n",
      "Epoch 28/50\n",
      "366/366 [==============================] - 0s 1ms/step - loss: 0.1340 - accuracy: 0.9623\n",
      "Epoch 29/50\n",
      "366/366 [==============================] - 0s 1ms/step - loss: 0.1353 - accuracy: 0.9614\n",
      "Epoch 30/50\n",
      "366/366 [==============================] - 0s 1ms/step - loss: 0.1310 - accuracy: 0.9631\n",
      "Epoch 31/50\n",
      "366/366 [==============================] - 0s 1ms/step - loss: 0.1316 - accuracy: 0.9619\n",
      "Epoch 32/50\n",
      "366/366 [==============================] - 0s 1ms/step - loss: 0.1308 - accuracy: 0.9633\n",
      "Epoch 33/50\n",
      "366/366 [==============================] - 0s 1ms/step - loss: 0.1319 - accuracy: 0.9613\n",
      "Epoch 34/50\n",
      "366/366 [==============================] - 0s 1ms/step - loss: 0.1324 - accuracy: 0.9610\n",
      "Epoch 35/50\n",
      "366/366 [==============================] - 0s 1ms/step - loss: 0.1274 - accuracy: 0.9644\n",
      "Epoch 36/50\n",
      "366/366 [==============================] - 0s 1ms/step - loss: 0.1240 - accuracy: 0.9670\n",
      "Epoch 37/50\n",
      "366/366 [==============================] - 0s 1ms/step - loss: 0.1288 - accuracy: 0.9635\n",
      "Epoch 38/50\n",
      "366/366 [==============================] - 0s 1ms/step - loss: 0.1276 - accuracy: 0.9628\n",
      "Epoch 39/50\n",
      "366/366 [==============================] - 0s 1ms/step - loss: 0.1288 - accuracy: 0.9608\n",
      "Epoch 40/50\n",
      "366/366 [==============================] - 0s 1ms/step - loss: 0.1264 - accuracy: 0.9640\n",
      "Epoch 41/50\n",
      "366/366 [==============================] - 1s 1ms/step - loss: 0.1257 - accuracy: 0.9633\n",
      "Epoch 42/50\n",
      "366/366 [==============================] - 0s 1ms/step - loss: 0.1261 - accuracy: 0.9628\n",
      "Epoch 43/50\n",
      "366/366 [==============================] - 0s 1ms/step - loss: 0.1244 - accuracy: 0.9637\n",
      "Epoch 44/50\n",
      "366/366 [==============================] - 0s 1ms/step - loss: 0.1210 - accuracy: 0.9658\n",
      "Epoch 45/50\n",
      "366/366 [==============================] - 0s 1ms/step - loss: 0.1242 - accuracy: 0.9646\n",
      "Epoch 46/50\n",
      "366/366 [==============================] - 0s 1ms/step - loss: 0.1210 - accuracy: 0.9667\n",
      "Epoch 47/50\n",
      "366/366 [==============================] - 0s 1ms/step - loss: 0.1234 - accuracy: 0.9641\n",
      "Epoch 48/50\n",
      "366/366 [==============================] - 0s 1ms/step - loss: 0.1222 - accuracy: 0.9653\n",
      "Epoch 49/50\n",
      "366/366 [==============================] - 0s 1ms/step - loss: 0.1214 - accuracy: 0.9659\n",
      "Epoch 50/50\n",
      "366/366 [==============================] - 0s 1ms/step - loss: 0.1243 - accuracy: 0.9639\n"
     ]
    },
    {
     "data": {
      "text/plain": [
       "<keras.callbacks.History at 0x189c400da90>"
      ]
     },
     "execution_count": 67,
     "metadata": {},
     "output_type": "execute_result"
    }
   ],
   "source": [
    "import tensorflow as tf\n",
    "from tensorflow import keras\n",
    "model=keras.Sequential([\n",
    "    keras.layers.Dense(8,input_shape=(5,),activation='relu',kernel_regularizer=keras.regularizers.l2(0.001)),\n",
    "    keras.layers.Dense(3,activation='relu'),\n",
    "    keras.layers.Dense(1,activation='sigmoid'),\n",
    "])\n",
    "\n",
    "model.compile(optimizer='adam',loss='binary_crossentropy',metrics=['accuracy'])\n",
    "model.fit(X_train,y_train,epochs=50)"
   ]
  },
  {
   "cell_type": "code",
   "execution_count": 68,
   "id": "35bdb0c2",
   "metadata": {},
   "outputs": [
    {
     "name": "stdout",
     "output_type": "stream",
     "text": [
      "              precision    recall  f1-score   support\n",
      "\n",
      "           0       0.83      0.92      0.87      3027\n",
      "           1       0.85      0.71      0.77      1990\n",
      "\n",
      "    accuracy                           0.83      5017\n",
      "   macro avg       0.84      0.81      0.82      5017\n",
      "weighted avg       0.84      0.83      0.83      5017\n",
      "\n"
     ]
    }
   ],
   "source": [
    "from sklearn.metrics import classification_report\n",
    "print(classification_report(y_test,y_pred))"
   ]
  },
  {
   "cell_type": "code",
   "execution_count": 69,
   "id": "be68468b",
   "metadata": {},
   "outputs": [
    {
     "data": {
      "text/plain": [
       "<AxesSubplot:>"
      ]
     },
     "execution_count": 69,
     "metadata": {},
     "output_type": "execute_result"
    },
    {
     "data": {
      "image/png": "[encoded data removed]",
      "text/plain": [
       "<Figure size 720x504 with 2 Axes>"
      ]
     },
     "metadata": {
      "needs_background": "light"
     },
     "output_type": "display_data"
    }
   ],
   "source": [
    "cm=tf.math.confusion_matrix(labels=y_test,predictions=y_pred)\n",
    "plt.figure(figsize=(10,7))\n",
    "sns.heatmap(cm,annot=True,fmt='d')"
   ]
  },
  {
   "cell_type": "markdown",
   "id": "f4ea1805",
   "metadata": {},
   "source": [
    "### SVM and ANN"
   ]
  },
  {
   "cell_type": "code",
   "execution_count": 70,
   "id": "5a80e013",
   "metadata": {},
   "outputs": [
    {
     "name": "stdout",
     "output_type": "stream",
     "text": [
      "Accuracy of the combined SVM and ANN model: 98.25%\n"
     ]
    }
   ],
   "source": [
    "import numpy as np\n",
    "from sklearn.svm import SVC\n",
    "from sklearn.neural_network import MLPClassifier\n",
    "from sklearn.model_selection import train_test_split\n",
    "\n",
    "svm = SVC(kernel='linear', C=1.0, random_state=42)\n",
    "svm.fit(X_train, y_train)\n",
    "\n",
    "ann = MLPClassifier(hidden_layer_sizes=(100,), max_iter=500, random_state=42)\n",
    "ann.fit(X_train, y_train)\n",
    "\n",
    "svm_preds = svm.predict(X_test)\n",
    "ann_preds = ann.predict(X_test)\n",
    "\n",
    "\n",
    "combined_preds = np.round((svm_preds + ann_preds) / 2)\n",
    "\n",
    "\n",
    "accuracy = np.mean(combined_preds == y_test)\n",
    "print(\"Accuracy of the combined SVM and ANN model: {:.2f}%\".format(accuracy * 100))\n"
   ]
  },
  {
   "cell_type": "markdown",
   "id": "ac31c86c",
   "metadata": {},
   "source": [
    "### Ensemble"
   ]
  },
  {
   "cell_type": "markdown",
   "id": "b4d9fbf4",
   "metadata": {},
   "source": [
    "### Voting"
   ]
  },
  {
   "cell_type": "code",
   "execution_count": 86,
   "id": "8e41b1e9",
   "metadata": {},
   "outputs": [
    {
     "name": "stdout",
     "output_type": "stream",
     "text": [
      "0.998804066175005\n"
     ]
    },
    {
     "data": {
      "text/plain": [
       "2.62447452545166"
      ]
     },
     "execution_count": 86,
     "metadata": {},
     "output_type": "execute_result"
    }
   ],
   "source": [
    "from sklearn.ensemble import RandomForestClassifier, VotingClassifier\n",
    "from sklearn.svm import SVC\n",
    "from sklearn.linear_model import LogisticRegression\n",
    "from sklearn.neural_network import MLPClassifier\n",
    "st=time.time()\n",
    "\n",
    "rf_model = DecisionTreeClassifier()\n",
    "svm_model = SVC(kernel='linear', probability=True)\n",
    "logreg_model = LogisticRegression(max_iter=175)\n",
    "nn_model = MLPClassifier(hidden_layer_sizes=(7,2), activation='relu')\n",
    "\n",
    "\n",
    "ensemble_model = VotingClassifier(estimators=[('rf', rf_model), ('svm', svm_model),\n",
    "                                               ('logreg', logreg_model), ('nn', nn_model)],\n",
    "                                   voting='hard')\n",
    "\n",
    "\n",
    "ensemble_model.fit(X_train, y_train)\n",
    "\n",
    "\n",
    "ensemble_predictions = ensemble_model.predict(X_test)\n",
    "\n",
    "accuracy = accuracy_score(y_test, ensemble_predictions)\n",
    "print(accuracy)\n",
    "et=time.time()\n",
    "et-st\n"
   ]
  },
  {
   "cell_type": "markdown",
   "id": "6c149de4",
   "metadata": {},
   "source": [
    "### Boosting"
   ]
  },
  {
   "cell_type": "markdown",
   "id": "71f4aa02",
   "metadata": {},
   "source": [
    "### Adaboost"
   ]
  },
  {
   "cell_type": "code",
   "execution_count": 77,
   "id": "e30a018a",
   "metadata": {},
   "outputs": [
    {
     "name": "stdout",
     "output_type": "stream",
     "text": [
      "Train accuracy: 1.0000\n",
      "Test accuracy: 1.0000\n"
     ]
    },
    {
     "data": {
      "text/plain": [
       "0.44948816299438477"
      ]
     },
     "execution_count": 77,
     "metadata": {},
     "output_type": "execute_result"
    }
   ],
   "source": [
    "from sklearn.ensemble import AdaBoostClassifier\n",
    "st=time.time()\n",
    "base_model = LogisticRegression()\n",
    "\n",
    "# Create AdaBoost classifier\n",
    "n_estimators = 50  # Number of boosting stages\n",
    "learning_rate = 0.1  # Learning rate for each stage\n",
    "adaboost_model = AdaBoostClassifier( n_estimators=n_estimators, learning_rate=learning_rate, random_state=42)\n",
    "\n",
    "# Train the AdaBoost classifier\n",
    "adaboost_model.fit(X_train, y_train)\n",
    "\n",
    "# Predict using the trained AdaBoost classifier\n",
    "y_pred_train = adaboost_model.predict(X_train)\n",
    "y_pred_test = adaboost_model.predict(X_test)\n",
    "# Evaluate the performance of the AdaBoost classifier\n",
    "train_accuracy = accuracy_score(y_train, y_pred_train)\n",
    "test_accuracy = accuracy_score(y_test, y_pred_test)\n",
    "et=time.time()\n",
    "print(f\"Train accuracy: {train_accuracy:.4f}\")\n",
    "print(f\"Test accuracy: {test_accuracy:.4f}\")\n",
    "et-st\n"
   ]
  },
  {
   "cell_type": "markdown",
   "id": "f7cdac32",
   "metadata": {},
   "source": [
    "### Xgboost"
   ]
  },
  {
   "cell_type": "code",
   "execution_count": 76,
   "id": "fcdfdb1b",
   "metadata": {},
   "outputs": [
    {
     "name": "stdout",
     "output_type": "stream",
     "text": [
      "Accuracy: 1.0\n"
     ]
    },
    {
     "data": {
      "text/plain": [
       "0.24043655395507812"
      ]
     },
     "execution_count": 76,
     "metadata": {},
     "output_type": "execute_result"
    }
   ],
   "source": [
    "import xgboost as xgb\n",
    "st=time.time()\n",
    "params = {\n",
    "    'objective': 'binary:logistic',  # For binary classification\n",
    "    'eta': 0.1,  # Learning rate\n",
    "    'max_depth': 3,  # Maximum depth of each tree\n",
    "    'subsample': 0.8,  # Subsample ratio for each tree\n",
    "    'random_state': 42  # Random seed for reproducibility\n",
    "}\n",
    "dtrain = xgb.DMatrix(X_train, label=y_train)\n",
    "dtest = xgb.DMatrix(X_test, label=y_test)\n",
    "\n",
    "# Train the XGBoost model\n",
    "num_rounds = 100  # Number of boosting rounds\n",
    "model = xgb.train(params, dtrain, num_rounds)\n",
    "\n",
    "# Predict on test data\n",
    "y_pred = model.predict(dtest)\n",
    "# Convert predicted probabilities to binary labels\n",
    "y_pred_binary = [1 if p > 0.5 else 0 for p in y_pred]\n",
    "\n",
    "# Calculate accuracy\n",
    "accuracy = accuracy_score(y_test, y_pred_binary)\n",
    "et=time.time()\n",
    "print('Accuracy:', accuracy)\n",
    "et-st"
   ]
  },
  {
   "cell_type": "code",
   "execution_count": 85,
   "id": "b76c2056",
   "metadata": {},
   "outputs": [
    {
     "name": "stderr",
     "output_type": "stream",
     "text": [
      "C:\\Users\\Shweta\\anaconda3\\lib\\site-packages\\sklearn\\linear_model\\_logistic.py:458: ConvergenceWarning: lbfgs failed to converge (status=1):\n",
      "STOP: TOTAL NO. of ITERATIONS REACHED LIMIT.\n",
      "\n",
      "Increase the number of iterations (max_iter) or scale the data as shown in:\n",
      "    https://scikit-learn.org/stable/modules/preprocessing.html\n",
      "Please also refer to the documentation for alternative solver options:\n",
      "    https://scikit-learn.org/stable/modules/linear_model.html#logistic-regression\n",
      "  n_iter_i = _check_optimize_result(\n",
      "C:\\Users\\Shweta\\anaconda3\\lib\\site-packages\\sklearn\\neural_network\\_multilayer_perceptron.py:686: ConvergenceWarning: Stochastic Optimizer: Maximum iterations (200) reached and the optimization hasn't converged yet.\n",
      "  warnings.warn(\n"
     ]
    }
   ],
   "source": [
    "# Train the models\n",
    "logreg = LogisticRegression()\n",
    "logreg.fit(X_train, y_train)\n",
    "\n",
    "svm = SVC()\n",
    "svm.fit(X_train, y_train)\n",
    "\n",
    "knn = KNeighborsClassifier()\n",
    "knn.fit(X_train, y_train)\n",
    "\n",
    "nb = GaussianNB()\n",
    "nb.fit(X_train, y_train)\n",
    "\n",
    "rf = RandomForestClassifier()\n",
    "rf.fit(X_train, y_train)\n",
    "\n",
    "ann = MLPClassifier()\n",
    "ann.fit(X_train, y_train)\n",
    "\n",
    "# Make predictions\n",
    "logreg_pred = logreg.predict(X_test)\n",
    "svm_pred = svm.predict(X_test)\n",
    "knn_pred = knn.predict(X_test)\n",
    "nb_pred = nb.predict(X_test)\n",
    "rf_pred = rf.predict(X_test)\n",
    "ann_pred = ann.predict(X_test)\n",
    "\n",
    "# Combine predictions using hard voting\n",
    "final_pred = []\n",
    "for i in range(len(X_test)):\n",
    "    pred = [logreg_pred[i], svm_pred[i], knn_pred[i], nb_pred[i], rf_pred[i], ann_pred[i]]\n",
    "    final_pred.append(max(set(pred), key = pred.count))\n",
    "\n",
    "# Evaluate the performance of the ensemble model\n",
    "accuracy = accuracy_score(y_test, final_pred)\n"
   ]
  },
  {
   "cell_type": "code",
   "execution_count": 128,
   "id": "e302b31d",
   "metadata": {},
   "outputs": [
    {
     "name": "stderr",
     "output_type": "stream",
     "text": [
      "C:\\Users\\Shweta\\anaconda3\\lib\\site-packages\\sklearn\\ensemble\\_base.py:166: FutureWarning: `base_estimator` was renamed to `estimator` in version 1.2 and will be removed in 1.4.\n",
      "  warnings.warn(\n"
     ]
    },
    {
     "data": {
      "text/plain": [
       "0.9178792106836755"
      ]
     },
     "execution_count": 128,
     "metadata": {},
     "output_type": "execute_result"
    }
   ],
   "source": [
    "from sklearn.ensemble import BaggingClassifier\n",
    "from sklearn.tree import DecisionTreeClassifier\n",
    "from sklearn.svm import SVC\n",
    "from sklearn.linear_model import LogisticRegression\n",
    "from sklearn.neural_network import MLPClassifier\n",
    "\n",
    "\n",
    "rf_model = DecisionTreeClassifier()\n",
    "svm_model = SVC(kernel='linear', probability=True)\n",
    "logreg_model = LogisticRegression(max_iter=100)\n",
    "nn_model = MLPClassifier(hidden_layer_sizes=(100, 50), activation='relu')\n",
    "\n",
    "\n",
    "ensemble_model = BaggingClassifier(base_estimator=LogisticRegression(),\n",
    "                                    n_estimators=40, max_samples=0.7, max_features=0.5)\n",
    "\n",
    "\n",
    "ensemble_model.fit(X_train, y_train)\n",
    "\n",
    "\n",
    "ensemble_predictions = ensemble_model.predict(X_test)\n",
    "\n",
    "accuracy = accuracy_score(y_test, ensemble_predictions)\n",
    "accuracy"
   ]
  },
  {
   "cell_type": "code",
   "execution_count": null,
   "id": "f08dfe9c",
   "metadata": {},
   "outputs": [],
   "source": []
  }
 ],
 "metadata": {
  "kernelspec": {
   "display_name": "Python 3 (ipykernel)",
   "language": "python",
   "name": "python3"
  },
  "language_info": {
   "codemirror_mode": {
    "name": "ipython",
    "version": 3
   },
   "file_extension": ".py",
   "mimetype": "text/x-python",
   "name": "python",
   "nbconvert_exporter": "python",
   "pygments_lexer": "ipython3",
   "version": "3.9.12"
  }
 },
 "nbformat": 4,
 "nbformat_minor": 5
}
